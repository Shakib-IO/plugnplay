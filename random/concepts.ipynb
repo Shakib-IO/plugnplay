{
 "cells": [
  {
   "cell_type": "code",
   "execution_count": 1,
   "metadata": {},
   "outputs": [],
   "source": [
    "# https://medium.com/geekculture/9-advanced-python-concepts-you-should-know-about-945621e49550\n",
    "# https://realpython.com/python-exceptions/"
   ]
  },
  {
   "cell_type": "code",
   "execution_count": 4,
   "metadata": {},
   "outputs": [
    {
     "name": "stdout",
     "output_type": "stream",
     "text": [
      "Make sure data types are same\n"
     ]
    }
   ],
   "source": [
    "try:\n",
    "    add = 1 + \"hasib\"\n",
    "except TypeError:\n",
    "    print(\"Make sure data types are same\")"
   ]
  },
  {
   "cell_type": "code",
   "execution_count": 6,
   "metadata": {},
   "outputs": [],
   "source": [
    "x = 3\n",
    "if x > 5:\n",
    "    raise Exception(f\"x is {x}, should be less than 5\")"
   ]
  },
  {
   "cell_type": "code",
   "execution_count": 7,
   "metadata": {},
   "outputs": [
    {
     "ename": "Exception",
     "evalue": "x is 10, should be less than 5",
     "output_type": "error",
     "traceback": [
      "\u001b[0;31m---------------------------------------------------------------------------\u001b[0m",
      "\u001b[0;31mException\u001b[0m                                 Traceback (most recent call last)",
      "\u001b[1;32m/Users/hasibzunair/Developer/learning/plugnplay/random/concepts.ipynb Cell 4'\u001b[0m in \u001b[0;36m<cell line: 2>\u001b[0;34m()\u001b[0m\n\u001b[1;32m      <a href='vscode-notebook-cell:/Users/hasibzunair/Developer/learning/plugnplay/random/concepts.ipynb#ch0000004?line=0'>1</a>\u001b[0m x \u001b[39m=\u001b[39m \u001b[39m10\u001b[39m\n\u001b[1;32m      <a href='vscode-notebook-cell:/Users/hasibzunair/Developer/learning/plugnplay/random/concepts.ipynb#ch0000004?line=1'>2</a>\u001b[0m \u001b[39mif\u001b[39;00m x \u001b[39m>\u001b[39m \u001b[39m5\u001b[39m:\n\u001b[0;32m----> <a href='vscode-notebook-cell:/Users/hasibzunair/Developer/learning/plugnplay/random/concepts.ipynb#ch0000004?line=2'>3</a>\u001b[0m     \u001b[39mraise\u001b[39;00m \u001b[39mException\u001b[39;00m(\u001b[39mf\u001b[39m\u001b[39m\"\u001b[39m\u001b[39mx is \u001b[39m\u001b[39m{\u001b[39;00mx\u001b[39m}\u001b[39;00m\u001b[39m, should be less than 5\u001b[39m\u001b[39m\"\u001b[39m)\n",
      "\u001b[0;31mException\u001b[0m: x is 10, should be less than 5"
     ]
    }
   ],
   "source": [
    "x = 10\n",
    "if x > 5:\n",
    "    raise Exception(f\"x is {x}, should be less than 5\")"
   ]
  },
  {
   "cell_type": "code",
   "execution_count": null,
   "metadata": {},
   "outputs": [],
   "source": []
  },
  {
   "cell_type": "code",
   "execution_count": null,
   "metadata": {},
   "outputs": [],
   "source": []
  }
 ],
 "metadata": {
  "kernelspec": {
   "display_name": "Python 3.8.13 ('dev')",
   "language": "python",
   "name": "python3"
  },
  "language_info": {
   "codemirror_mode": {
    "name": "ipython",
    "version": 3
   },
   "file_extension": ".py",
   "mimetype": "text/x-python",
   "name": "python",
   "nbconvert_exporter": "python",
   "pygments_lexer": "ipython3",
   "version": "3.8.13"
  },
  "orig_nbformat": 4,
  "vscode": {
   "interpreter": {
    "hash": "6f992f7db62b59d8ee09ff6871d0e5d93fda538d5e46ca9f3d81cc10adfb1560"
   }
  }
 },
 "nbformat": 4,
 "nbformat_minor": 2
}
